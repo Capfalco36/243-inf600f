{
 "cells": [
  {
   "cell_type": "markdown",
   "metadata": {},
   "source": [
    "# Introduction a Python et Jupyter Notebook"
   ]
  },
  {
   "metadata": {},
   "cell_type": "markdown",
   "source": [
    "## Exercice 0\n",
    "Changer le type de cette cellule à Markdown et exécutez la."
   ]
  },
  {
   "cell_type": "markdown",
   "metadata": {},
   "source": [
    "## Exercice 1\n",
    "Ajoutez les opérateurs logique nécessaires (là où il y a des `__`) pour afficher chacun des `print`."
   ]
  },
  {
   "metadata": {
    "ExecuteTime": {
     "end_time": "2024-10-05T16:04:50.850274Z",
     "start_time": "2024-10-05T16:04:50.847280Z"
    }
   },
   "cell_type": "code",
   "source": [
    "from imaplib import Flags\n",
    "\n",
    "import numpy as np\n",
    "\n",
    "if True and True:\n",
    "    print('&&')\n",
    "\n",
    "if True or False:\n",
    "    print('||')\n",
    "\n",
    "if not False:\n",
    "    print('!')\n",
    "\n",
    "value = None\n",
    "if value is None:\n",
    "    print('==, mais l\\'identité')\n",
    "    # https://dbader.org/blog/difference-between-is-and-equals-in-python"
   ],
   "outputs": [
    {
     "name": "stdout",
     "output_type": "stream",
     "text": [
      "&&\n",
      "||\n",
      "!\n",
      "==, mais l'identité\n"
     ]
    }
   ],
   "execution_count": 1
  },
  {
   "cell_type": "markdown",
   "metadata": {},
   "source": [
    "## Exercice 2\n",
    "Transformez un float en integer"
   ]
  },
  {
   "cell_type": "code",
   "metadata": {
    "ExecuteTime": {
     "end_time": "2024-10-05T16:23:26.185999Z",
     "start_time": "2024-10-05T16:23:26.182931Z"
    }
   },
   "source": [
    "f2i = 1.0\n",
    "\n",
    "print(f2i)\n",
    "print(type(f2i))\n",
    "\n",
    "# Convertisser le float en integer\n",
    "\n",
    "f2i = int(f2i)\n",
    "print(f2i)\n",
    "print(type(f2i))"
   ],
   "outputs": [
    {
     "name": "stdout",
     "output_type": "stream",
     "text": [
      "1.0\n",
      "<class 'float'>\n",
      "1\n",
      "<class 'int'>\n"
     ]
    }
   ],
   "execution_count": 27
  },
  {
   "cell_type": "markdown",
   "metadata": {},
   "source": [
    "## Exercice 3\n",
    "Complétez la fonction `compare` pour comparer 2 nombres."
   ]
  },
  {
   "cell_type": "code",
   "metadata": {
    "ExecuteTime": {
     "end_time": "2024-10-05T16:23:27.285487Z",
     "start_time": "2024-10-05T16:23:27.280733Z"
    }
   },
   "source": [
    "def compare(nb1, nb2):\n",
    "    \"\"\"\n",
    "    Si nb1 < nb2, retourne -1\n",
    "    Si nb1 > nb2, retourne 1\n",
    "    Si nb1 == nb2, retourne 0\n",
    "    \"\"\"\n",
    "    comparaison = None\n",
    "    \n",
    "    # Si nb1 < nb2, retourne (-1, 'inferieur')\n",
    "    if nb1 < nb2:\n",
    "        comparaison = \"(-1, 'inferieur')\"\n",
    "    # Si nb1 > nb2, retourne (1, 'superieur')\n",
    "    if nb1 > nb2:\n",
    "        comparaison = \"(1, 'superieur')\"\n",
    "    # Si nb1 == nb2, retourne (0, 'egal')\n",
    "    if nb1 == nb2:\n",
    "        comparaison = \"(0, 'egal')\"\n",
    "    return comparaison\n",
    "\n",
    "a = 10; b = 25\n",
    "print('{:<4}'.format(str(a)), '{:<4} :'.format(str(b)), compare(a, b))\n",
    "a = 111; b = 92\n",
    "print('{:<4}'.format(str(a)), '{:<4} :'.format(str(b)), compare(a, b))\n",
    "a = 1000; b = 1000\n",
    "print('{:<4}'.format(str(a)), '{:<4} :'.format(str(b)), compare(a, b))"
   ],
   "outputs": [
    {
     "name": "stdout",
     "output_type": "stream",
     "text": [
      "10   25   : (-1, 'inferieur')\n",
      "111  92   : (1, 'superieur')\n",
      "1000 1000 : (0, 'egal')\n"
     ]
    }
   ],
   "execution_count": 28
  },
  {
   "cell_type": "markdown",
   "metadata": {},
   "source": [
    "## Exercice 4\n",
    "1. Affichez les éléments de suiteA avec une boucle `for`\n",
    "2. Affichez les éléments de suiteB avec une boucle `while`"
   ]
  },
  {
   "cell_type": "code",
   "metadata": {
    "ExecuteTime": {
     "end_time": "2024-10-05T16:23:29.123950Z",
     "start_time": "2024-10-05T16:23:29.119663Z"
    }
   },
   "source": [
    "suiteA = range(1, 10)\n",
    "\n",
    "# boucle for\n",
    "for i in range(0, len(suiteA)):\n",
    "    print(suiteA[i])\n",
    "\n",
    "suiteB = range(1, 10, 2)\n",
    "\n",
    "# boucle while\n",
    "i = 0\n",
    "while i < len(suiteB):\n",
    "    print(suiteB[i])\n",
    "    i+=1\n"
   ],
   "outputs": [
    {
     "name": "stdout",
     "output_type": "stream",
     "text": [
      "1\n",
      "2\n",
      "3\n",
      "4\n",
      "5\n",
      "6\n",
      "7\n",
      "8\n",
      "9\n",
      "1\n",
      "3\n",
      "5\n",
      "7\n",
      "9\n"
     ]
    }
   ],
   "execution_count": 29
  },
  {
   "cell_type": "markdown",
   "metadata": {},
   "source": [
    "## Exercice 5\n",
    "Créez une matrice 3x3 de type booléen à l'aide d'une liste de liste. Toutes les cases devront être *True* sauf celle au centre."
   ]
  },
  {
   "cell_type": "code",
   "metadata": {
    "ExecuteTime": {
     "end_time": "2024-10-05T16:23:30.484854Z",
     "start_time": "2024-10-05T16:23:30.481927Z"
    }
   },
   "source": [
    "import numpy as np\n",
    "matrice = [[True, True, True],\n",
    "           [True, False, True],\n",
    "           [True, True, True]]\n",
    "print(matrice)\n",
    "\n",
    "matrice = np.array(matrice)\n",
    "print(matrice)"
   ],
   "outputs": [
    {
     "name": "stdout",
     "output_type": "stream",
     "text": [
      "[[True, True, True], [True, False, True], [True, True, True]]\n",
      "[[ True  True  True]\n",
      " [ True False  True]\n",
      " [ True  True  True]]\n"
     ]
    }
   ],
   "execution_count": 30
  },
  {
   "metadata": {
    "ExecuteTime": {
     "end_time": "2024-10-05T16:23:31.124417Z",
     "start_time": "2024-10-05T16:23:31.120450Z"
    }
   },
   "cell_type": "code",
   "source": [
    "matrice = np.full((3,3), True)\n",
    "matrice[1,1] = False\n",
    "\n",
    "print(matrice)"
   ],
   "outputs": [
    {
     "name": "stdout",
     "output_type": "stream",
     "text": [
      "[[ True  True  True]\n",
      " [ True False  True]\n",
      " [ True  True  True]]\n"
     ]
    }
   ],
   "execution_count": 31
  },
  {
   "cell_type": "markdown",
   "metadata": {},
   "source": [
    "## Exercice 6\n",
    "Parcourer le dictionnaire suivant avec une boucle `for` et la fonction `items()`."
   ]
  },
  {
   "cell_type": "code",
   "metadata": {
    "ExecuteTime": {
     "end_time": "2024-10-05T16:25:14.894130Z",
     "start_time": "2024-10-05T16:25:14.888990Z"
    }
   },
   "source": [
    "dict_ex = {}\n",
    "dict_ex['a'] = 1\n",
    "dict_ex['c'] = 3\n",
    "dict_ex['b'] = 2\n",
    "\n",
    "for key, value in dict_ex.items():\n",
    "    print(f'{key} : {value}')"
   ],
   "outputs": [
    {
     "name": "stdout",
     "output_type": "stream",
     "text": [
      "a : 1\n",
      "c : 3\n",
      "b : 2\n"
     ]
    }
   ],
   "execution_count": 33
  },
  {
   "cell_type": "markdown",
   "metadata": {},
   "source": [
    "## Exercice 7\n",
    "Appelez la fonction `mystere`, storez les valeurs retournez dans 3 différentes variables et affichez les.\n",
    "\n",
    "> Vous pouvez voir que la fonction utilise des paramètres par défaut,\n",
    "> essayez de donner à la fonction les paramètres `a` et `c` seulement.\n",
    "> Comme ça, on pourra utiliser la valeur par défaut de `b`."
   ]
  },
  {
   "cell_type": "code",
   "metadata": {
    "ExecuteTime": {
     "end_time": "2024-10-05T16:32:12.199222Z",
     "start_time": "2024-10-05T16:32:12.195997Z"
    }
   },
   "source": [
    "from random import random\n",
    "\n",
    "def mystere(a, b = 2, c = 3):\n",
    "    if b != 0:\n",
    "        a = a ** 2\n",
    "        a = a // b\n",
    "        c /= b\n",
    "    else:\n",
    "        a = round(random())\n",
    "        c = random() * 10\n",
    "        \n",
    "    return a, b, c\n",
    "\n",
    "print(mystere(a=4, c=4))"
   ],
   "outputs": [
    {
     "name": "stdout",
     "output_type": "stream",
     "text": [
      "(8, 2, 2.0)\n"
     ]
    }
   ],
   "execution_count": 41
  },
  {
   "cell_type": "markdown",
   "metadata": {},
   "source": [
    "## Observations"
   ]
  },
  {
   "cell_type": "code",
   "metadata": {
    "ExecuteTime": {
     "end_time": "2024-10-05T16:43:35.079358Z",
     "start_time": "2024-10-05T16:43:35.071434Z"
    }
   },
   "source": [
    "# Python fait usage de `deep` et `shallow copy` dépendemment du type de la variable passé.\n",
    "\n",
    "print('Passé en paramètre un integer:')\n",
    "a = 5\n",
    "\n",
    "def add(nb, add):\n",
    "    nb += add\n",
    "    return nb\n",
    "\n",
    "print(a)\n",
    "print(add(a, 5))\n",
    "print(a)\n",
    "\n",
    "print('---')\n",
    "\n",
    "print('Passé en paramètre une liste (objet mutable):')\n",
    "list_a = [5, 10]\n",
    "\n",
    "def list_add(list_nb, add):\n",
    "    for i in range(0, len(list_nb)):\n",
    "        list_nb[i] += add\n",
    "    return list_nb\n",
    "\n",
    "print(list_a)\n",
    "print(list_add(list_a, 5))\n",
    "print(list_a)\n",
    "\n",
    "print('---')\n",
    "print('Erreur typique que je fais souvent:')\n",
    "test = [[0, 0, 0]] * 3\n",
    "print(test)\n",
    "test[0][0] = 3\n",
    "print(test)\n",
    "\n",
    "print('---')\n",
    "print('Solution pour cette erreur:')\n",
    "test = []\n",
    "\n",
    "for i in range(0,3):\n",
    "    test.append([0, 0, 0])\n",
    "\n",
    "print(test)\n",
    "test[0][0] = 1\n",
    "print(test)"
   ],
   "outputs": [
    {
     "name": "stdout",
     "output_type": "stream",
     "text": [
      "Passé en paramètre un integer:\n",
      "5\n",
      "10\n",
      "5\n",
      "---\n",
      "Passé en paramètre une liste (objet mutable):\n",
      "[5, 10]\n",
      "[10, 15]\n",
      "[10, 15]\n",
      "---\n",
      "Erreur typique que je fais souvent:\n",
      "[[0, 0, 0], [0, 0, 0], [0, 0, 0]]\n",
      "[[3, 0, 0], [3, 0, 0], [3, 0, 0]]\n",
      "---\n",
      "Solution pour cette erreur:\n",
      "[[0, 0, 0], [0, 0, 0], [0, 0, 0]]\n",
      "[[1, 0, 0], [0, 0, 0], [0, 0, 0]]\n"
     ]
    }
   ],
   "execution_count": 46
  },
  {
   "cell_type": "code",
   "metadata": {
    "ExecuteTime": {
     "end_time": "2024-10-05T16:43:26.520878Z",
     "start_time": "2024-10-05T16:43:26.513848Z"
    }
   },
   "source": [
    "# Vous pouvez consultez la documentation avec la fonction `help` si elle est supporté\n",
    "help(print)\n",
    "\n",
    "print('On voit ici les différents paramètres de la fonction print, soit: value, file, sep, end et flush')"
   ],
   "outputs": [
    {
     "name": "stdout",
     "output_type": "stream",
     "text": [
      "Help on built-in function print in module builtins:\n",
      "\n",
      "print(*args, sep=' ', end='\\n', file=None, flush=False)\n",
      "    Prints the values to a stream, or to sys.stdout by default.\n",
      "\n",
      "    sep\n",
      "      string inserted between values, default a space.\n",
      "    end\n",
      "      string appended after the last value, default a newline.\n",
      "    file\n",
      "      a file-like object (stream); defaults to the current sys.stdout.\n",
      "    flush\n",
      "      whether to forcibly flush the stream.\n",
      "\n",
      "On voit ici les différents paramètres de la fonction print, soit: value, file, sep, end et flush\n"
     ]
    }
   ],
   "execution_count": 44
  },
  {
   "cell_type": "code",
   "metadata": {
    "ExecuteTime": {
     "end_time": "2024-10-05T16:43:24.433298Z",
     "start_time": "2024-10-05T16:43:24.430085Z"
    }
   },
   "source": [
    "# Les listes ne sont pas restreinte à un seul type\n",
    "list_ex = [1, 'a', 2, 'b']\n",
    "\n",
    "for elem in list_ex: print(elem, end=' ')"
   ],
   "outputs": [
    {
     "name": "stdout",
     "output_type": "stream",
     "text": [
      "1 a 2 b "
     ]
    }
   ],
   "execution_count": 43
  },
  {
   "cell_type": "code",
   "execution_count": null,
   "metadata": {},
   "outputs": [],
   "source": []
  }
 ],
 "metadata": {
  "kernelspec": {
   "display_name": "Python 3",
   "language": "python",
   "name": "python3"
  },
  "language_info": {
   "codemirror_mode": {
    "name": "ipython",
    "version": 3
   },
   "file_extension": ".py",
   "mimetype": "text/x-python",
   "name": "python",
   "nbconvert_exporter": "python",
   "pygments_lexer": "ipython3",
   "version": "3.8.3"
  }
 },
 "nbformat": 4,
 "nbformat_minor": 4
}
